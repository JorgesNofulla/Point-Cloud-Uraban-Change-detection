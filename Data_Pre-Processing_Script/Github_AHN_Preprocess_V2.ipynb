{
 "cells": [
  {
   "cell_type": "code",
   "execution_count": 1,
   "id": "e83c3446-3d5e-4d75-8187-9dd98acfc51c",
   "metadata": {},
   "outputs": [],
   "source": [
    "#Libraries\n",
    "import numpy as np\n",
    "import laspy as lp\n",
    "import pylas\n",
    "import scipy\n",
    "from scipy.spatial import cKDTree\n",
    "import math\n",
    "import matplotlib.pyplot as plt\n",
    "from scipy.spatial import distance\n",
    "import sys\n",
    "from collections import Counter\n",
    "from sklearn.cluster import DBSCAN\n",
    "import pandas as pd\n",
    "import geopandas as gpd\n",
    "from scipy.spatial import KDTree"
   ]
  },
  {
   "cell_type": "markdown",
   "id": "220872c9-b281-449f-a105-f6fd93457d04",
   "metadata": {
    "tags": []
   },
   "source": [
    "# 1. LOAD the data and Lower the point density"
   ]
  },
  {
   "cell_type": "code",
   "execution_count": 5,
   "id": "3d2b499f-23fe-4955-ad2d-47195f63533f",
   "metadata": {},
   "outputs": [],
   "source": [
    "# order 22_medium, 16_down ,10_medium-2, 22_small , 16_up, 10_small_3"
   ]
  },
  {
   "cell_type": "code",
   "execution_count": null,
   "id": "423f9279-c957-496d-9654-cbab26083835",
   "metadata": {},
   "outputs": [],
   "source": [
    "# order test 3-4 small_lot, 10_medium, 03_small_second_ahn , 03_small, 15_ahn, en2 small 1, en2 small 2"
   ]
  },
  {
   "cell_type": "code",
   "execution_count": null,
   "id": "4ad46e92-7319-4814-8acd-bb5b73ea20f7",
   "metadata": {},
   "outputs": [],
   "source": [
    "radius = 0.8 # the radius on which we count the point density in x and y for each point (the parameter used for density in 2D calculation)\n",
    "\n",
    "f = lp.file.File('Thesis_Random_Forest/AHN_test/Final_train_4_to_3/37EN2_10_small_2_AHN4.las',mode=\"r\")\n",
    "f2 = lp.file.File('Thesis_Random_Forest/AHN_test/Final_train_4_to_3/37EN2_10_small_2_AHN3.las', mode=\"r\")\n",
    "\n",
    "# concatenate the file coordinates\n",
    "coord = np.c_[f.x, f.y, f.z, f.red, f.green, f.blue, f.intensity,f.num_returns, f.classification]\n",
    "coord2 = np.c_[f2.x, f2.y, f2.z, f2.red, f2.green, f2.blue, f2.intensity,f2.num_returns, f2.classification]\n",
    "\n",
    "# now we have smaller coordiante values to deal with\n",
    "\n",
    "xi = (f.x).astype('int')\n",
    "yi = (f.y).astype('int')\n",
    "zi = (f.z).astype('int')\n",
    "xi2 = (f2.x).astype('int')\n",
    "yi2 = (f2.y).astype('int')\n",
    "zi2 = (f2.z).astype('int')\n",
    "\n",
    "# Reduce the data! get a flat voxel index ii\n",
    "# lowers the number of points feed to the algorithm\n",
    "ii = xi + yi * xi.max() + zi * yi.max() * xi.max()\n",
    "_, sl = np.unique(ii, return_index=True)\n",
    "coord = coord[sl, :]\n",
    "\n",
    "#\n",
    "ii2 = xi2 + yi2 * xi2.max() + zi2 * yi2.max() * xi2.max()\n",
    "_, sl2 = np.unique(ii2, return_index=True)\n",
    "coord2 = coord2[sl2, :]\n",
    "print(\"Initially we had\", len(f.x), len(f2.x), \"points. But, after lowering the point denity, the number of remainig points is\", len(coord), len(coord2)) "
   ]
  },
  {
   "cell_type": "markdown",
   "id": "d0899188-6c21-4dea-a2b4-5913caa6e054",
   "metadata": {
    "tags": []
   },
   "source": [
    "# 2. Match the data from 2 different epoch"
   ]
  },
  {
   "cell_type": "code",
   "execution_count": 121,
   "id": "b2560652-a597-4dde-a6c0-36ad025a5d1d",
   "metadata": {},
   "outputs": [],
   "source": [
    "# Construct KDTree from array2\n",
    "tree = KDTree(coord2[:, :2])\n",
    "\n",
    "# Find the closest point in array2 to each point in array1\n",
    "dist, ind = tree.query(coord[:, :2])\n",
    "\n",
    "# Reorder array2 based on ind\n",
    "array2_reordered = coord2[ind]\n"
   ]
  },
  {
   "cell_type": "code",
   "execution_count": 123,
   "id": "ee4422c8-1a29-483f-bdd8-1970e09834d1",
   "metadata": {},
   "outputs": [],
   "source": [
    "df1 = pd.DataFrame(coord, columns=['xAHN3', 'yAHN3', 'zAHN3', 'redAHN3', 'greenAHN3', 'blueAHN3', 'intensityAHN3','rtnumAHN3', 'labelAHN3'])\n",
    "df2 = pd.DataFrame(array2_reordered, columns=['x', 'y', 'z', 'red', 'green', 'blue', 'intensity','rtnum', 'label'])"
   ]
  },
  {
   "cell_type": "code",
   "execution_count": 124,
   "id": "2d5c96db-a36d-4865-a6d4-bafc6b03fc56",
   "metadata": {},
   "outputs": [],
   "source": [
    "df3 = pd.DataFrame(\n",
    "    np.column_stack([df1,df2]),\n",
    "    columns=df1.columns.append(df2.columns)\n",
    ")"
   ]
  },
  {
   "cell_type": "code",
   "execution_count": 125,
   "id": "67e1ae90-b28e-4850-a2d2-b88517c37216",
   "metadata": {
    "collapsed": true,
    "jupyter": {
     "outputs_hidden": true
    },
    "tags": []
   },
   "outputs": [
    {
     "data": {
      "text/html": [
       "<div>\n",
       "<style scoped>\n",
       "    .dataframe tbody tr th:only-of-type {\n",
       "        vertical-align: middle;\n",
       "    }\n",
       "\n",
       "    .dataframe tbody tr th {\n",
       "        vertical-align: top;\n",
       "    }\n",
       "\n",
       "    .dataframe thead th {\n",
       "        text-align: right;\n",
       "    }\n",
       "</style>\n",
       "<table border=\"1\" class=\"dataframe\">\n",
       "  <thead>\n",
       "    <tr style=\"text-align: right;\">\n",
       "      <th></th>\n",
       "      <th>xAHN3</th>\n",
       "      <th>yAHN3</th>\n",
       "      <th>zAHN3</th>\n",
       "      <th>redAHN3</th>\n",
       "      <th>greenAHN3</th>\n",
       "      <th>blueAHN3</th>\n",
       "      <th>intensityAHN3</th>\n",
       "      <th>rtnumAHN3</th>\n",
       "      <th>labelAHN3</th>\n",
       "      <th>x</th>\n",
       "      <th>y</th>\n",
       "      <th>z</th>\n",
       "      <th>red</th>\n",
       "      <th>green</th>\n",
       "      <th>blue</th>\n",
       "      <th>intensity</th>\n",
       "      <th>rtnum</th>\n",
       "      <th>label</th>\n",
       "    </tr>\n",
       "  </thead>\n",
       "  <tbody>\n",
       "    <tr>\n",
       "      <th>0</th>\n",
       "      <td>89643.746</td>\n",
       "      <td>448178.177</td>\n",
       "      <td>-2.034</td>\n",
       "      <td>40960.0</td>\n",
       "      <td>37888.0</td>\n",
       "      <td>34304.0</td>\n",
       "      <td>850.0</td>\n",
       "      <td>1.0</td>\n",
       "      <td>2.0</td>\n",
       "      <td>89643.742</td>\n",
       "      <td>448178.789</td>\n",
       "      <td>-1.869</td>\n",
       "      <td>40192.0</td>\n",
       "      <td>40448.0</td>\n",
       "      <td>39168.0</td>\n",
       "      <td>152.0</td>\n",
       "      <td>1.0</td>\n",
       "      <td>2.0</td>\n",
       "    </tr>\n",
       "    <tr>\n",
       "      <th>1</th>\n",
       "      <td>89634.844</td>\n",
       "      <td>448200.215</td>\n",
       "      <td>-2.058</td>\n",
       "      <td>40448.0</td>\n",
       "      <td>36352.0</td>\n",
       "      <td>33024.0</td>\n",
       "      <td>960.0</td>\n",
       "      <td>1.0</td>\n",
       "      <td>2.0</td>\n",
       "      <td>89634.828</td>\n",
       "      <td>448199.648</td>\n",
       "      <td>-1.867</td>\n",
       "      <td>39168.0</td>\n",
       "      <td>39168.0</td>\n",
       "      <td>37120.0</td>\n",
       "      <td>149.0</td>\n",
       "      <td>1.0</td>\n",
       "      <td>2.0</td>\n",
       "    </tr>\n",
       "    <tr>\n",
       "      <th>2</th>\n",
       "      <td>89630.824</td>\n",
       "      <td>448210.342</td>\n",
       "      <td>-2.050</td>\n",
       "      <td>37632.0</td>\n",
       "      <td>33280.0</td>\n",
       "      <td>31232.0</td>\n",
       "      <td>918.0</td>\n",
       "      <td>1.0</td>\n",
       "      <td>2.0</td>\n",
       "      <td>89630.992</td>\n",
       "      <td>448210.242</td>\n",
       "      <td>-1.904</td>\n",
       "      <td>40704.0</td>\n",
       "      <td>38144.0</td>\n",
       "      <td>37888.0</td>\n",
       "      <td>159.0</td>\n",
       "      <td>1.0</td>\n",
       "      <td>2.0</td>\n",
       "    </tr>\n",
       "    <tr>\n",
       "      <th>3</th>\n",
       "      <td>89624.938</td>\n",
       "      <td>448149.270</td>\n",
       "      <td>-1.689</td>\n",
       "      <td>19456.0</td>\n",
       "      <td>18944.0</td>\n",
       "      <td>19712.0</td>\n",
       "      <td>1030.0</td>\n",
       "      <td>1.0</td>\n",
       "      <td>2.0</td>\n",
       "      <td>89624.773</td>\n",
       "      <td>448149.996</td>\n",
       "      <td>-1.634</td>\n",
       "      <td>48128.0</td>\n",
       "      <td>48384.0</td>\n",
       "      <td>46848.0</td>\n",
       "      <td>245.0</td>\n",
       "      <td>1.0</td>\n",
       "      <td>2.0</td>\n",
       "    </tr>\n",
       "    <tr>\n",
       "      <th>4</th>\n",
       "      <td>89625.770</td>\n",
       "      <td>448149.886</td>\n",
       "      <td>-1.565</td>\n",
       "      <td>26624.0</td>\n",
       "      <td>26112.0</td>\n",
       "      <td>26368.0</td>\n",
       "      <td>910.0</td>\n",
       "      <td>1.0</td>\n",
       "      <td>2.0</td>\n",
       "      <td>89625.676</td>\n",
       "      <td>448149.643</td>\n",
       "      <td>1.337</td>\n",
       "      <td>33792.0</td>\n",
       "      <td>34560.0</td>\n",
       "      <td>32768.0</td>\n",
       "      <td>219.0</td>\n",
       "      <td>1.0</td>\n",
       "      <td>6.0</td>\n",
       "    </tr>\n",
       "    <tr>\n",
       "      <th>...</th>\n",
       "      <td>...</td>\n",
       "      <td>...</td>\n",
       "      <td>...</td>\n",
       "      <td>...</td>\n",
       "      <td>...</td>\n",
       "      <td>...</td>\n",
       "      <td>...</td>\n",
       "      <td>...</td>\n",
       "      <td>...</td>\n",
       "      <td>...</td>\n",
       "      <td>...</td>\n",
       "      <td>...</td>\n",
       "      <td>...</td>\n",
       "      <td>...</td>\n",
       "      <td>...</td>\n",
       "      <td>...</td>\n",
       "      <td>...</td>\n",
       "      <td>...</td>\n",
       "    </tr>\n",
       "    <tr>\n",
       "      <th>8562</th>\n",
       "      <td>89669.008</td>\n",
       "      <td>448215.980</td>\n",
       "      <td>8.214</td>\n",
       "      <td>50688.0</td>\n",
       "      <td>38144.0</td>\n",
       "      <td>30464.0</td>\n",
       "      <td>1272.0</td>\n",
       "      <td>1.0</td>\n",
       "      <td>6.0</td>\n",
       "      <td>89668.719</td>\n",
       "      <td>448215.708</td>\n",
       "      <td>-1.815</td>\n",
       "      <td>52480.0</td>\n",
       "      <td>42496.0</td>\n",
       "      <td>35072.0</td>\n",
       "      <td>227.0</td>\n",
       "      <td>1.0</td>\n",
       "      <td>2.0</td>\n",
       "    </tr>\n",
       "    <tr>\n",
       "      <th>8563</th>\n",
       "      <td>89667.730</td>\n",
       "      <td>448216.000</td>\n",
       "      <td>8.018</td>\n",
       "      <td>53504.0</td>\n",
       "      <td>38144.0</td>\n",
       "      <td>30976.0</td>\n",
       "      <td>1308.0</td>\n",
       "      <td>1.0</td>\n",
       "      <td>6.0</td>\n",
       "      <td>89667.785</td>\n",
       "      <td>448215.728</td>\n",
       "      <td>-1.818</td>\n",
       "      <td>51968.0</td>\n",
       "      <td>41728.0</td>\n",
       "      <td>35328.0</td>\n",
       "      <td>236.0</td>\n",
       "      <td>1.0</td>\n",
       "      <td>2.0</td>\n",
       "    </tr>\n",
       "    <tr>\n",
       "      <th>8564</th>\n",
       "      <td>89668.668</td>\n",
       "      <td>448216.135</td>\n",
       "      <td>8.169</td>\n",
       "      <td>52992.0</td>\n",
       "      <td>39424.0</td>\n",
       "      <td>31232.0</td>\n",
       "      <td>1318.0</td>\n",
       "      <td>1.0</td>\n",
       "      <td>6.0</td>\n",
       "      <td>89668.719</td>\n",
       "      <td>448215.708</td>\n",
       "      <td>-1.815</td>\n",
       "      <td>52480.0</td>\n",
       "      <td>42496.0</td>\n",
       "      <td>35072.0</td>\n",
       "      <td>227.0</td>\n",
       "      <td>1.0</td>\n",
       "      <td>2.0</td>\n",
       "    </tr>\n",
       "    <tr>\n",
       "      <th>8565</th>\n",
       "      <td>89669.945</td>\n",
       "      <td>448216.208</td>\n",
       "      <td>8.012</td>\n",
       "      <td>49920.0</td>\n",
       "      <td>40448.0</td>\n",
       "      <td>33792.0</td>\n",
       "      <td>1017.0</td>\n",
       "      <td>2.0</td>\n",
       "      <td>6.0</td>\n",
       "      <td>89669.953</td>\n",
       "      <td>448216.706</td>\n",
       "      <td>-1.783</td>\n",
       "      <td>51456.0</td>\n",
       "      <td>41984.0</td>\n",
       "      <td>37120.0</td>\n",
       "      <td>210.0</td>\n",
       "      <td>1.0</td>\n",
       "      <td>2.0</td>\n",
       "    </tr>\n",
       "    <tr>\n",
       "      <th>8566</th>\n",
       "      <td>89670.023</td>\n",
       "      <td>448216.462</td>\n",
       "      <td>8.208</td>\n",
       "      <td>53760.0</td>\n",
       "      <td>45824.0</td>\n",
       "      <td>41216.0</td>\n",
       "      <td>716.0</td>\n",
       "      <td>2.0</td>\n",
       "      <td>6.0</td>\n",
       "      <td>89669.953</td>\n",
       "      <td>448216.706</td>\n",
       "      <td>-1.783</td>\n",
       "      <td>51456.0</td>\n",
       "      <td>41984.0</td>\n",
       "      <td>37120.0</td>\n",
       "      <td>210.0</td>\n",
       "      <td>1.0</td>\n",
       "      <td>2.0</td>\n",
       "    </tr>\n",
       "  </tbody>\n",
       "</table>\n",
       "<p>8567 rows × 18 columns</p>\n",
       "</div>"
      ],
      "text/plain": [
       "          xAHN3       yAHN3  zAHN3  redAHN3  greenAHN3  blueAHN3  \\\n",
       "0     89643.746  448178.177 -2.034  40960.0    37888.0   34304.0   \n",
       "1     89634.844  448200.215 -2.058  40448.0    36352.0   33024.0   \n",
       "2     89630.824  448210.342 -2.050  37632.0    33280.0   31232.0   \n",
       "3     89624.938  448149.270 -1.689  19456.0    18944.0   19712.0   \n",
       "4     89625.770  448149.886 -1.565  26624.0    26112.0   26368.0   \n",
       "...         ...         ...    ...      ...        ...       ...   \n",
       "8562  89669.008  448215.980  8.214  50688.0    38144.0   30464.0   \n",
       "8563  89667.730  448216.000  8.018  53504.0    38144.0   30976.0   \n",
       "8564  89668.668  448216.135  8.169  52992.0    39424.0   31232.0   \n",
       "8565  89669.945  448216.208  8.012  49920.0    40448.0   33792.0   \n",
       "8566  89670.023  448216.462  8.208  53760.0    45824.0   41216.0   \n",
       "\n",
       "      intensityAHN3  rtnumAHN3  labelAHN3          x           y      z  \\\n",
       "0             850.0        1.0        2.0  89643.742  448178.789 -1.869   \n",
       "1             960.0        1.0        2.0  89634.828  448199.648 -1.867   \n",
       "2             918.0        1.0        2.0  89630.992  448210.242 -1.904   \n",
       "3            1030.0        1.0        2.0  89624.773  448149.996 -1.634   \n",
       "4             910.0        1.0        2.0  89625.676  448149.643  1.337   \n",
       "...             ...        ...        ...        ...         ...    ...   \n",
       "8562         1272.0        1.0        6.0  89668.719  448215.708 -1.815   \n",
       "8563         1308.0        1.0        6.0  89667.785  448215.728 -1.818   \n",
       "8564         1318.0        1.0        6.0  89668.719  448215.708 -1.815   \n",
       "8565         1017.0        2.0        6.0  89669.953  448216.706 -1.783   \n",
       "8566          716.0        2.0        6.0  89669.953  448216.706 -1.783   \n",
       "\n",
       "          red    green     blue  intensity  rtnum  label  \n",
       "0     40192.0  40448.0  39168.0      152.0    1.0    2.0  \n",
       "1     39168.0  39168.0  37120.0      149.0    1.0    2.0  \n",
       "2     40704.0  38144.0  37888.0      159.0    1.0    2.0  \n",
       "3     48128.0  48384.0  46848.0      245.0    1.0    2.0  \n",
       "4     33792.0  34560.0  32768.0      219.0    1.0    6.0  \n",
       "...       ...      ...      ...        ...    ...    ...  \n",
       "8562  52480.0  42496.0  35072.0      227.0    1.0    2.0  \n",
       "8563  51968.0  41728.0  35328.0      236.0    1.0    2.0  \n",
       "8564  52480.0  42496.0  35072.0      227.0    1.0    2.0  \n",
       "8565  51456.0  41984.0  37120.0      210.0    1.0    2.0  \n",
       "8566  51456.0  41984.0  37120.0      210.0    1.0    2.0  \n",
       "\n",
       "[8567 rows x 18 columns]"
      ]
     },
     "execution_count": 125,
     "metadata": {},
     "output_type": "execute_result"
    }
   ],
   "source": [
    "new_gdf_2 = df3\n",
    "new_gdf_2"
   ]
  },
  {
   "cell_type": "markdown",
   "id": "abae0890-7b98-4cb7-b6bf-7389e91868ab",
   "metadata": {
    "tags": []
   },
   "source": [
    "# 3. Generate the change_label target values"
   ]
  },
  {
   "cell_type": "code",
   "execution_count": 126,
   "id": "c5bc7c02-5724-4c37-8e25-8683736ca348",
   "metadata": {},
   "outputs": [],
   "source": [
    "new_gdf_2[\"change_label\"] = new_gdf_2.apply(lambda x: 1 if x[\"labelAHN3\"] == 6 and x[\"label\"] !=6 else 2 if x[\"label\"] == 6 and x[\"labelAHN3\"] != 6 else 0, axis = 1)"
   ]
  },
  {
   "cell_type": "code",
   "execution_count": 128,
   "id": "8b848429-053b-421d-b9b8-527f4b7b13c7",
   "metadata": {},
   "outputs": [],
   "source": [
    "# get the data in an array format\n",
    "data_array = new_gdf_2.values"
   ]
  },
  {
   "cell_type": "markdown",
   "id": "fba79cfc-0ce2-414c-84a3-b44d75006e29",
   "metadata": {},
   "source": [
    "# Calculate point density on 2D"
   ]
  },
  {
   "cell_type": "code",
   "execution_count": 130,
   "id": "371e5553-75ce-43e6-b3ff-552e0efb3a7a",
   "metadata": {},
   "outputs": [],
   "source": [
    "# Input data\n",
    "points_ahn3 = data_array[:, 0:3]\n",
    "\n",
    "# Create KDTree from points\n",
    "kd_tree11 = KDTree(points_ahn3)\n",
    "\n",
    "# Array to store the number of points in the buffer for each point\n",
    "count1 = np.zeros(len(points_ahn3), dtype=int)\n",
    "\n",
    "# Loop over each point and find points in the buffer\n",
    "for i, p in enumerate(points_ahn3):\n",
    "    idx = kd_tree11.query_ball_point(p, radius)\n",
    "    count1[i] = len(idx) - 1"
   ]
  },
  {
   "cell_type": "code",
   "execution_count": 131,
   "id": "215d79fb-9d3e-4f73-8d45-edfe6d511527",
   "metadata": {},
   "outputs": [],
   "source": [
    "# Input data\n",
    "points_ahn4 = data_array[:, 9:11]\n",
    "\n",
    "# Create KDTree from points\n",
    "kd_tree22 = KDTree(points_ahn4)\n",
    "\n",
    "# Array to store the number of points in the buffer for each point\n",
    "count2 = np.zeros(len(points_ahn4), dtype=int)\n",
    "\n",
    "# Loop over each point and find points in the buffer\n",
    "for i, p in enumerate(points_ahn4):\n",
    "    idx = kd_tree22.query_ball_point(p, radius)\n",
    "    count2[i] = len(idx) - 1"
   ]
  },
  {
   "cell_type": "markdown",
   "id": "66d4d0f0-5c85-408a-8bd7-8a3fb016cb2f",
   "metadata": {
    "tags": []
   },
   "source": [
    "# 4. Prepare and save the arrays for deep learning models"
   ]
  },
  {
   "cell_type": "code",
   "execution_count": 132,
   "id": "6e78c156-cb7f-4d9a-af35-1499ffe47f40",
   "metadata": {},
   "outputs": [],
   "source": [
    "# extract features and targets\n",
    "ahn3_features = data_array[:, 2:8]  # z until number of returns\n",
    "ahn4_features = data_array[:, 11:17]  # z of second data until number of returns of second data"
   ]
  },
  {
   "cell_type": "code",
   "execution_count": null,
   "id": "f6c1c286-076a-4825-b6af-4485cd783a89",
   "metadata": {
    "collapsed": true,
    "jupyter": {
     "outputs_hidden": true
    },
    "tags": []
   },
   "outputs": [],
   "source": [
    "#  Subtract and add features from 2 epochs with each other to get a single input\n",
    "result_substraction = ahn3_features - ahn4_features\n",
    "result_addition = ahn3_features + ahn4_features\n",
    "# point density in 2d\n",
    "sum_count = count1 + count2\n",
    "sub_count = count1 - count2"
   ]
  },
  {
   "cell_type": "code",
   "execution_count": 136,
   "id": "382db783-035b-4097-89bd-425e9fff0817",
   "metadata": {},
   "outputs": [],
   "source": [
    "# For each tile we insert an unique value\n",
    "value1 = 0\n",
    "column0 = np.full_like(data_array[:,1], value1)"
   ]
  },
  {
   "cell_type": "code",
   "execution_count": 21,
   "id": "386a1ec0-8014-4b1c-ae71-dab04e7ee9bc",
   "metadata": {},
   "outputs": [],
   "source": [
    "# Save the coordinates alongside the new merged features\n",
    "ahn_train_data = np.c_[data_array[:, 0:3], result_addition, result_substraction, sum_count, sub_count, column0]"
   ]
  },
  {
   "cell_type": "code",
   "execution_count": 22,
   "id": "37c5d83c-700b-423f-99f5-2f3a729d8e02",
   "metadata": {},
   "outputs": [],
   "source": [
    "# the change label\n",
    "targets = data_array[:, 18]"
   ]
  },
  {
   "cell_type": "markdown",
   "id": "7409ffac-6495-4f77-9ae6-968fce968ae7",
   "metadata": {
    "tags": []
   },
   "source": [
    "# 5. The cluster cleaning code"
   ]
  },
  {
   "cell_type": "code",
   "execution_count": null,
   "id": "23408931-b1ce-425f-a01f-8d5aa846578d",
   "metadata": {},
   "outputs": [],
   "source": [
    "point_labels = targets\n",
    "# Go through each unique label\n",
    "for label in np.unique(targets):\n",
    "    \n",
    "    # Get all points with the current label\n",
    "    current_points = ahn_train_data[:,0:3][targets == label]\n",
    "    \n",
    "    # Perform DBSCAN clustering on the current set of points\n",
    "    clustering = DBSCAN(eps=2.5, min_samples=1).fit(current_points)\n",
    "    \n",
    "    # Get a list of unique cluster labels for the current set of points\n",
    "    current_unique_labels = np.unique(clustering.labels_)\n",
    "    \n",
    "    # Create a boolean array to store which points belong to small clusters\n",
    "    small_cluster_points = np.zeros(current_points.shape[0], dtype=bool)\n",
    "    \n",
    "    # Go through each unique label for the current set of points\n",
    "    for current_label in current_unique_labels:\n",
    "        \n",
    "        # Skip the label for noise (-1)\n",
    "        if current_label == -1:\n",
    "            continue\n",
    "        \n",
    "        # Get all points in the current cluster\n",
    "        current_cluster = clustering.labels_ == current_label\n",
    "        \n",
    "        # Check if the number of points in the cluster is less than 3\n",
    "        if current_cluster.sum() < 80:\n",
    "            \n",
    "            # If the cluster is too small, mark all points in the cluster as belonging to small clusters\n",
    "            small_cluster_points[current_cluster] = True\n",
    "    \n",
    "    # Change the labels of all points in small clusters to 0\n",
    "    current_labels = point_labels[point_labels == label].copy()\n",
    "    current_labels[small_cluster_points] = 0\n",
    "    point_labels[point_labels == label] = current_labels\n",
    "\n",
    "# Print the updated labels\n",
    "print(point_labels)"
   ]
  },
  {
   "cell_type": "markdown",
   "id": "add79ad8-e1a7-416e-a099-5087a8073a01",
   "metadata": {},
   "source": [
    "# Save the results "
   ]
  },
  {
   "cell_type": "code",
   "execution_count": null,
   "id": "4c47ac69-041f-442e-9a6f-3632016a581d",
   "metadata": {},
   "outputs": [],
   "source": [
    "# Save the training/testing tile as a las file to visually check the results"
   ]
  },
  {
   "cell_type": "code",
   "execution_count": 161,
   "id": "12ceb0ce-ae8a-427d-bfae-4c2ee81112f2",
   "metadata": {},
   "outputs": [],
   "source": [
    "print_coord = ahn_train_data\n",
    "fn = \"Train_density_.las\"\n",
    "\n",
    "vals = np.linspace(0, 1, 100)\n",
    "np.random.shuffle(vals)\n",
    "cmap = plt.cm.colors.ListedColormap(plt.cm.tab20(vals))\n",
    "header = lp.header.Header()\n",
    "header.data_format_id = 2\n",
    "fp = lp.file.File(fn, mode = 'w', header = header)\n",
    "fp.header.scale = [0.01, 0.01, 0.01]\n",
    "fp.header.offset = [min(print_coord[:,0]), min(print_coord[:,1]), min(print_coord[:,2])]\n",
    "fp.x = print_coord[:, 0]\n",
    "fp.y = print_coord[:, 1]\n",
    "fp.z = print_coord[:, 2]\n",
    "fp.pt_src_id = point_labels\n",
    "#fp.intensity = intensity\n",
    "fp.close()"
   ]
  },
  {
   "cell_type": "code",
   "execution_count": 162,
   "id": "54c2b156-3337-411c-bd80-8b23b2255229",
   "metadata": {},
   "outputs": [],
   "source": [
    "# if you want to stack multiple training data into one to train algorithm with more than just one tile\n",
    "AHN_train_stack = np.vstack((ahn_train_data, ahn_train_data2, ahn_train_data3, ahn_train_data4, ahn_train_data5, ahn_train_data6, ahn_train_data7))\n",
    "AHN_train_target_stack = np.concatenate((point_labels, point_labels2, point_labels3, point_labels4, point_labels5, point_labels6, point_labels7), axis=0)\n",
    "# else just save the singular file on the cells below"
   ]
  },
  {
   "cell_type": "code",
   "execution_count": null,
   "id": "1f88af4b-a288-474f-934d-1191bc56e1ab",
   "metadata": {},
   "outputs": [],
   "source": [
    "# x,y,z, - addition(z,r,g,b,in,rtn), sub(z,r,g,b,in,rtn) ,sum 2d, sub 2d, label"
   ]
  },
  {
   "cell_type": "code",
   "execution_count": 141,
   "id": "a4ed2bf2-59f1-4f77-a4de-4b07f4920395",
   "metadata": {},
   "outputs": [],
   "source": [
    "np.save('AHN_test_FEATURES_FINAL_FINAL_density.npy', AHN_train_stack)\n",
    "np.save('AHN_test_TARGET_FINAL_FINAL_density.npy', AHN_train_target_stack)"
   ]
  },
  {
   "cell_type": "code",
   "execution_count": 163,
   "id": "c703753e-7c6e-4210-a047-f1280304563b",
   "metadata": {},
   "outputs": [],
   "source": [
    "np.save('AHN_train_FEATURES_FINAL_FINAL_density.npy', AHN_train_stack)\n",
    "np.save('AHN_train_TARGET_FINAL_FINAL_density.npy', AHN_train_target_stack)"
   ]
  }
 ],
 "metadata": {
  "kernelspec": {
   "display_name": "Python",
   "language": "python",
   "name": "python3"
  },
  "language_info": {
   "codemirror_mode": {
    "name": "ipython",
    "version": 3
   },
   "file_extension": ".py",
   "mimetype": "text/x-python",
   "name": "python",
   "nbconvert_exporter": "python",
   "pygments_lexer": "ipython3",
   "version": "3.8.10"
  }
 },
 "nbformat": 4,
 "nbformat_minor": 5
}
