{
 "cells": [
  {
   "cell_type": "code",
   "execution_count": 1,
   "id": "0ee31a2a-26fa-43f7-9d62-3bc8556a8639",
   "metadata": {},
   "outputs": [],
   "source": [
    "import numpy as np\n",
    "import pylas\n",
    "from scipy.spatial import KDTree\n",
    "from sklearn.utils import resample"
   ]
  },
  {
   "cell_type": "markdown",
   "id": "eb2bf77c-c824-4f82-8f04-eaffde752638",
   "metadata": {},
   "source": [
    "# 1. Load the data"
   ]
  },
  {
   "cell_type": "code",
   "execution_count": 2,
   "id": "1455f338-7ae8-41f1-9e2e-abca903a8eb3",
   "metadata": {},
   "outputs": [],
   "source": [
    "# load the data and save as numpy array\n",
    "f = pylas.read('your_file.las')\n",
    "f2 = pylas.read('your_file.las')\n",
    "coord_tr1 = np.c_[f.x, f.y, f.z, f.red, f.green, f.blue]\n",
    "coord_tr2 = np.c_[f2.x, f2.y, f2.z, f2.red, f2.green, f2.blue, f2.label_ch]"
   ]
  },
  {
   "cell_type": "markdown",
   "id": "9a7e77c7-a5b7-4f30-b02b-942cb883a176",
   "metadata": {},
   "source": [
    "# 2. Order the data so the coordinates match"
   ]
  },
  {
   "cell_type": "code",
   "execution_count": 3,
   "id": "039b2b54-d2fc-42c5-8321-145c54d389b7",
   "metadata": {},
   "outputs": [],
   "source": [
    "# Assume you have two point clouds, 'cloud1' and 'cloud2', with different densities\n",
    "cloud1 = coord_tr1\n",
    "cloud2 = coord_tr2\n",
    "\n",
    "# Define the desired number of points for the resampled dataset\n",
    "n_points = int(len(coord_tr1))\n",
    "\n",
    "# Resample the combined point cloud to the desired number of points\n",
    "cloud1_resampled = resample(cloud1, n_samples=n_points, random_state=42)\n",
    "\n",
    "# Split the resampled point cloud back into two separate point clouds\n",
    "cloud2_resampled = resample(cloud2, n_samples=n_points, random_state=42)"
   ]
  },
  {
   "cell_type": "code",
   "execution_count": 4,
   "id": "e801ca07-108b-48ca-8b15-0c7699b48593",
   "metadata": {},
   "outputs": [],
   "source": [
    "# Construct KDTree from array2\n",
    "tree = KDTree(cloud2_resampled[:, :2])\n",
    "\n",
    "# Find the closest point in array2 to each point in array1\n",
    "dist, ind = tree.query(cloud1[:, :2])\n",
    "\n",
    "# Reorder array2 based on ind\n",
    "array2_reordered = cloud2_resampled[ind]"
   ]
  },
  {
   "cell_type": "markdown",
   "id": "c0196f9c-305e-4950-9124-c4cefd299582",
   "metadata": {},
   "source": [
    "# 3. Prepare features for the algorithm"
   ]
  },
  {
   "cell_type": "code",
   "execution_count": 5,
   "id": "bc513372-6129-4a42-b1c8-d7f8b80ab7e1",
   "metadata": {},
   "outputs": [],
   "source": [
    "# Filter only the features we will use for prediction\n",
    "before_features1 = coord_tr1[:, 2:6]\n",
    "before_features2 = array2_reordered[:, 2:6]\n",
    "targets = array2_reordered[:, 6]"
   ]
  },
  {
   "cell_type": "code",
   "execution_count": 6,
   "id": "94577c58-5fa2-43cb-be4f-18fa783af878",
   "metadata": {},
   "outputs": [],
   "source": [
    "# Combine features in one array\n",
    "result_substraction = before_features1 - before_features2\n",
    "result_addition = before_features1 + before_features2"
   ]
  },
  {
   "cell_type": "code",
   "execution_count": 8,
   "id": "de1033be-28c5-4e5d-91b3-76ecb125be97",
   "metadata": {},
   "outputs": [],
   "source": [
    "train_data = np.c_[result_addition, result_substraction]"
   ]
  },
  {
   "cell_type": "markdown",
   "id": "054eb931-8c3d-48dc-b003-a870741e1f85",
   "metadata": {},
   "source": [
    "# 4. Stack the data and save"
   ]
  },
  {
   "cell_type": "code",
   "execution_count": null,
   "id": "0eb3ad19-a018-4ca5-8a78-00b40779fc67",
   "metadata": {},
   "outputs": [],
   "source": [
    "# train_data_stack = np.stack((a, b))\n",
    "# targets_stack = np.stack((a, b))"
   ]
  },
  {
   "cell_type": "code",
   "execution_count": null,
   "id": "089b0da0-370e-46cf-98a3-7bcbd534d639",
   "metadata": {},
   "outputs": [],
   "source": [
    "np.save('train_data.npy', train_data)\n",
    "np.save('targets.npy', targets)"
   ]
  }
 ],
 "metadata": {
  "kernelspec": {
   "display_name": "Python",
   "language": "python",
   "name": "python3"
  },
  "language_info": {
   "codemirror_mode": {
    "name": "ipython",
    "version": 3
   },
   "file_extension": ".py",
   "mimetype": "text/x-python",
   "name": "python",
   "nbconvert_exporter": "python",
   "pygments_lexer": "ipython3",
   "version": "3.8.10"
  }
 },
 "nbformat": 4,
 "nbformat_minor": 5
}
