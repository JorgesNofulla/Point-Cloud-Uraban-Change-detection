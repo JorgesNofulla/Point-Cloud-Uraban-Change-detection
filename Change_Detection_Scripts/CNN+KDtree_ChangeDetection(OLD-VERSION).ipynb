{
 "cells": [
  {
   "cell_type": "code",
   "execution_count": null,
   "id": "9dbc5c69-7c75-4f12-abc9-c824f6dd8c85",
   "metadata": {},
   "outputs": [],
   "source": [
    "import numpy as np\n",
    "from tensorflow.keras.layers import Conv1D, MaxPooling1D, Flatten, Reshape\n",
    "from tensorflow.keras.layers import Dense, Dropout\n",
    "from tensorflow.keras.models import Sequential\n",
    "import tensorflow as tf\n",
    "from matplotlib import pyplot as plt\n",
    "import laspy as lp\n",
    "import matplotlib\n",
    "from tensorflow.keras.layers import Dense, Dropout, BatchNormalization\n",
    "from sklearn.metrics import confusion_matrix\n",
    "from sklearn.preprocessing import StandardScaler\n",
    "from sklearn.neighbors import KDTree"
   ]
  },
  {
   "cell_type": "markdown",
   "id": "aa7f4a9e-394c-412d-a504-4fdf2fe4a395",
   "metadata": {},
   "source": [
    "# 1. Load the data"
   ]
  },
  {
   "cell_type": "code",
   "execution_count": 2,
   "id": "2f64bd6f-4f72-4220-bd18-04e8faacc68c",
   "metadata": {},
   "outputs": [],
   "source": [
    "X_train = np.load('Final_train_data.npy')\n",
    "y_train = np.load('Final_targets.npy')\n",
    "X_test = np.load('Final_validation_data.npy')\n",
    "y_test = np.load('Final_validation_targets.npy')"
   ]
  },
  {
   "cell_type": "markdown",
   "id": "6ecf7087-deb5-4334-aea8-97e8f0909b3c",
   "metadata": {},
   "source": [
    "# 2. Find the neighbours for each point"
   ]
  },
  {
   "cell_type": "code",
   "execution_count": 3,
   "id": "84e9c62c-f838-4155-a5c3-2e39714157ee",
   "metadata": {},
   "outputs": [],
   "source": [
    "# Define the number of nearest neighbors to consider\n",
    "k_neighbors = 10\n",
    "\n",
    "# Calculate the nearest neighbors for each data point using KD-Tree\n",
    "tree = KDTree(X_train)\n",
    "tree2 = KDTree(X_test)\n",
    "nearest_neighbors_train = tree.query(X_train, k=k_neighbors+1, return_distance=False)[:, 1:]\n",
    "nearest_neighbors_test = tree2.query(X_test, k=k_neighbors+1, return_distance=False)[:, 1:]"
   ]
  },
  {
   "cell_type": "markdown",
   "id": "d7b05268-2a83-4cf3-8712-f622b2ac9cab",
   "metadata": {},
   "source": [
    "# 3. Prepare the data format for the CNN models"
   ]
  },
  {
   "cell_type": "code",
   "execution_count": 4,
   "id": "a3d77cba-7984-43e1-b12c-cc51082920c0",
   "metadata": {},
   "outputs": [],
   "source": [
    "# Generate the input data for training the model\n",
    "def generate_input_array(X, nearest_neighbors):\n",
    "    input_array = np.concatenate([X[:,3:][nearest_neighbors[:, i]] for i in range(k_neighbors)], axis=1)\n",
    "    return input_array.reshape(-1, k_neighbors, X[:,3:].shape[1], 1)\n",
    "\n",
    "input_array_train = generate_input_array(X_train, nearest_neighbors_train)\n",
    "input_array_test = generate_input_array(X_test, nearest_neighbors_test)\n",
    "\n",
    "# Normalize the nearest_neighbors arrays\n",
    "scaler = StandardScaler()\n",
    "input_array_train = scaler.fit_transform(input_array_train.reshape(input_array_train.shape[0], -1))\n",
    "input_array_test = scaler.transform(input_array_test.reshape(input_array_test.shape[0], -1))\n",
    "input_array_train = input_array_train.reshape(-1, k_neighbors, X_train[:,3:].shape[1], 1)\n",
    "input_array_test = input_array_test.reshape(-1, k_neighbors, X_test[:,3:].shape[1], 1)\n"
   ]
  },
  {
   "cell_type": "markdown",
   "id": "ff4980d7-a68e-460f-a229-1b95886a5532",
   "metadata": {},
   "source": [
    "# First CNN Model"
   ]
  },
  {
   "cell_type": "code",
   "execution_count": null,
   "id": "fc4a1a88-773b-4f4d-919d-6170c407ecfb",
   "metadata": {},
   "outputs": [],
   "source": [
    "# Define the CNN model\n",
    "model = Sequential()\n",
    "model.add(Conv1D(128, kernel_size=3, activation='relu', input_shape=(k_neighbors, 8, 1)))\n",
    "model.add(Conv1D(64, kernel_size=3, activation='relu'))\n",
    "model.add(Conv1D(32, kernel_size=3, activation='relu'))\n",
    "model.add(Flatten())\n",
    "model.add(Dense(64, activation='relu'))\n",
    "model.add(Dropout(0.2))\n",
    "model.add(Dense(32, activation='relu'))\n",
    "model.add(Dropout(0.2))\n",
    "model.add(Dense(7, activation='softmax'))\n",
    "\n",
    "model.summary()"
   ]
  },
  {
   "cell_type": "markdown",
   "id": "ac51d9c5-2241-4267-9773-9f84aa1598f3",
   "metadata": {},
   "source": [
    "# Train and evaluate the model"
   ]
  },
  {
   "cell_type": "code",
   "execution_count": null,
   "id": "655e4338-fbf7-433c-9504-35f8238e40d2",
   "metadata": {},
   "outputs": [],
   "source": [
    "model.compile(loss='sparse_categorical_crossentropy', optimizer='adam', metrics=['accuracy'])\n",
    "\n",
    "# Train the model\n",
    "model.fit(input_array_train, y_train, epochs=8, batch_size=64)\n",
    "\n",
    "loss, accuracy = model.evaluate(input_array_test, y_test)\n",
    "\n",
    "# Print the accuracy as a percentage\n",
    "print(\"Accuracy: {:.2f}%\".format(accuracy * 100))"
   ]
  },
  {
   "cell_type": "markdown",
   "id": "5a764c5d-95ab-4cef-8750-295d8b9a1020",
   "metadata": {},
   "source": [
    "# Predict the first model"
   ]
  },
  {
   "cell_type": "code",
   "execution_count": null,
   "id": "c161a87c-e7d8-4153-9651-89a253e24040",
   "metadata": {},
   "outputs": [],
   "source": [
    "prediction = model.predict(input_array_test)\n",
    "y_pred = np.argmax(prediction, axis=-1)\n",
    "y_pred"
   ]
  },
  {
   "cell_type": "markdown",
   "id": "6071cb92-62d1-4ec9-a4e8-139f953fc79d",
   "metadata": {},
   "source": [
    "# Second CNN Model"
   ]
  },
  {
   "cell_type": "code",
   "execution_count": null,
   "id": "6d749a2f-5d0b-41fe-bc76-c7909ddbe859",
   "metadata": {},
   "outputs": [],
   "source": [
    "# Define the CNN model\n",
    "model = Sequential()\n",
    "model.add(Conv1D(128, kernel_size=3, activation='relu', padding='same', input_shape=(k_neighbors, 8)))\n",
    "model.add(BatchNormalization())\n",
    "model.add(Conv1D(128, kernel_size=3, activation='relu', padding='same'))\n",
    "model.add(MaxPooling1D(pool_size=2))\n",
    "model.add(Dropout(0.3))\n",
    "\n",
    "model.add(Conv1D(64, kernel_size=2, activation='relu', padding='same'))\n",
    "model.add(BatchNormalization())\n",
    "model.add(Conv1D(64, kernel_size=2, activation='relu', padding='same'))\n",
    "model.add(Dropout(0.3))\n",
    "\n",
    "model.add(Conv1D(32, kernel_size=2, activation='relu', padding='same'))\n",
    "model.add(BatchNormalization())\n",
    "model.add(Conv1D(32, kernel_size=2, activation='relu', padding='same'))\n",
    "model.add(MaxPooling1D(pool_size=2))\n",
    "model.add(Dropout(0.3))\n",
    "\n",
    "model.add(Flatten())\n",
    "model.add(Dense(128, activation='relu'))\n",
    "model.add(BatchNormalization())\n",
    "model.add(Dropout(0.3))\n",
    "\n",
    "model.add(Dense(64, activation='relu'))\n",
    "model.add(BatchNormalization())\n",
    "model.add(Dropout(0.3))\n",
    "\n",
    "model.add(Dense(32, activation='relu'))\n",
    "model.add(BatchNormalization())\n",
    "model.add(Dropout(0.3))\n",
    "\n",
    "model.add(Dense(7, activation='softmax'))\n",
    "\n",
    "model.summary()\n"
   ]
  },
  {
   "cell_type": "markdown",
   "id": "631b2c88-9a2a-41a2-988d-dff895fc9294",
   "metadata": {},
   "source": [
    "# Train and evaluate the model"
   ]
  },
  {
   "cell_type": "code",
   "execution_count": null,
   "id": "c723dd12-bc19-4089-9de2-c02e929f9fad",
   "metadata": {},
   "outputs": [],
   "source": [
    "\n",
    "model.compile(loss='sparse_categorical_crossentropy', optimizer='adam', metrics=['accuracy'])\n",
    "\n",
    "# Train the model\n",
    "model.fit(input_array_train, y_train, epochs=8, batch_size=64)\n",
    "\n",
    "loss, accuracy = model.evaluate(input_array_test, y_test)\n",
    "\n",
    "# Print the accuracy as a percentage\n",
    "print(\"Accuracy: {:.2f}%\".format(accuracy * 100))\n"
   ]
  },
  {
   "cell_type": "markdown",
   "id": "7f6141e6-2eab-4044-8c83-01360667e81d",
   "metadata": {},
   "source": [
    "# Predict Second model"
   ]
  },
  {
   "cell_type": "code",
   "execution_count": null,
   "id": "543abb01-c506-4009-ad1c-35a5a4da1e47",
   "metadata": {},
   "outputs": [],
   "source": [
    "y_pred_modified = np.argmax(model.predict(input_array_test), axis=-1)"
   ]
  },
  {
   "cell_type": "markdown",
   "id": "fda2ab6a-6c4c-4672-a31c-a82e399e5a23",
   "metadata": {},
   "source": [
    "# Per class accuraccy "
   ]
  },
  {
   "cell_type": "code",
   "execution_count": null,
   "id": "2712e917-4b91-4aba-857c-cfd1984595ba",
   "metadata": {},
   "outputs": [],
   "source": [
    "cm_modified = confusion_matrix(y_test, y_pred_modified)\n",
    "class_accuracies_modified = cm_modified.diagonal() / cm_modified.sum(axis=1)\n",
    "for i, acc in enumerate(class_accuracies_modified):\n",
    "    print(f\"Accuracy for class {i} (Modified architecture): {acc:.2f}\")"
   ]
  },
  {
   "cell_type": "markdown",
   "id": "54bfb6ca-ae80-4ffe-a142-24266508f41f",
   "metadata": {},
   "source": [
    "# Save output as las file"
   ]
  },
  {
   "cell_type": "code",
   "execution_count": 15,
   "id": "59b9d126-b116-4c10-b43e-851f74c1fd2e",
   "metadata": {},
   "outputs": [],
   "source": [
    "print_coord = x_new_test2[:, :3]\n",
    "fn = \"CNN_chat4.las\"\n",
    "\n",
    "vals = np.linspace(0, 1, 100)\n",
    "np.random.shuffle(vals)\n",
    "cmap = plt.cm.colors.ListedColormap(plt.cm.tab20(vals))\n",
    "header = lp.header.Header()\n",
    "header.data_format_id = 2\n",
    "fp = lp.file.File(fn, mode = 'w', header = header)\n",
    "fp.header.scale = [0.01, 0.01, 0.01]\n",
    "fp.header.offset = [min(print_coord[:,0]), min(print_coord[:,1]), min(print_coord[:,2])]\n",
    "fp.x = print_coord[:, 0]\n",
    "fp.y = print_coord[:, 1]\n",
    "fp.z = print_coord[:, 2]\n",
    "fp.pt_src_id = y_pred\n",
    "#fp.intensity = intensity\n",
    "fp.close()"
   ]
  }
 ],
 "metadata": {
  "kernelspec": {
   "display_name": "Python",
   "language": "python",
   "name": "python3"
  },
  "language_info": {
   "codemirror_mode": {
    "name": "ipython",
    "version": 3
   },
   "file_extension": ".py",
   "mimetype": "text/x-python",
   "name": "python",
   "nbconvert_exporter": "python",
   "pygments_lexer": "ipython3",
   "version": "3.8.10"
  }
 },
 "nbformat": 4,
 "nbformat_minor": 5
}
